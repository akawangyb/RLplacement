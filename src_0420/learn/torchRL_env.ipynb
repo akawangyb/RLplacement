{
 "cells": [
  {
   "cell_type": "markdown",
   "source": [
    "## 创建环境"
   ],
   "metadata": {
    "collapsed": false
   },
   "id": "c260cffd523ccb0a"
  },
  {
   "cell_type": "markdown",
   "source": [
    "TorchRL不直接提供环境，而是提供了经典环境的包装\n",
    "可以按照以下的方式创建环境"
   ],
   "metadata": {
    "collapsed": false
   },
   "id": "90e2cb95180d4524"
  },
  {
   "cell_type": "code",
   "execution_count": 2,
   "outputs": [],
   "source": [
    "from torchrl.envs import GymEnv\n",
    "\n",
    "env = GymEnv(\"Pendulum-v1\")"
   ],
   "metadata": {
    "collapsed": false,
    "ExecuteTime": {
     "end_time": "2024-04-24T13:23:19.875472400Z",
     "start_time": "2024-04-24T13:23:13.722368500Z"
    }
   },
   "id": "efa5c3c16e7696eb"
  },
  {
   "cell_type": "markdown",
   "source": [
    "# 运行环境"
   ],
   "metadata": {
    "collapsed": false
   },
   "id": "87f43cd8652a249a"
  },
  {
   "cell_type": "markdown",
   "source": [
    "TorchRL中的环境有两个重要的方法，一个是reset()初始化一个episode,另一个是step(),执行一个由actor选择的动作。\n",
    "在TorchRL中环境的方法读和写都是TensorDict实例。TensorDict本质上是一个基于关键字的数据载体，像python字典一样。\n",
    "使用TensorDict的好处是，相比普通的Tensor，他赋予我们对复杂数据结构的更大的灵活性。\n",
    "下面是TensorDict使用的示例"
   ],
   "metadata": {
    "collapsed": false
   },
   "id": "87ec79dd1c05f7fb"
  },
  {
   "cell_type": "code",
   "execution_count": 3,
   "outputs": [
    {
     "name": "stdout",
     "output_type": "stream",
     "text": [
      "TensorDict(\n",
      "    fields={\n",
      "        done: Tensor(shape=torch.Size([1]), device=cpu, dtype=torch.bool, is_shared=False),\n",
      "        observation: Tensor(shape=torch.Size([3]), device=cpu, dtype=torch.float32, is_shared=False),\n",
      "        terminated: Tensor(shape=torch.Size([1]), device=cpu, dtype=torch.bool, is_shared=False),\n",
      "        truncated: Tensor(shape=torch.Size([1]), device=cpu, dtype=torch.bool, is_shared=False)},\n",
      "    batch_size=torch.Size([]),\n",
      "    device=cpu,\n",
      "    is_shared=False)\n"
     ]
    }
   ],
   "source": [
    "reset = env.reset()\n",
    "print(reset)"
   ],
   "metadata": {
    "collapsed": false,
    "ExecuteTime": {
     "end_time": "2024-04-24T13:23:19.893432500Z",
     "start_time": "2024-04-24T13:23:19.879463800Z"
    }
   },
   "id": "639010dd67b8b72e"
  },
  {
   "cell_type": "code",
   "execution_count": 4,
   "outputs": [
    {
     "name": "stdout",
     "output_type": "stream",
     "text": [
      "TensorDict(\n",
      "    fields={\n",
      "        action: Tensor(shape=torch.Size([1]), device=cpu, dtype=torch.float32, is_shared=False),\n",
      "        done: Tensor(shape=torch.Size([1]), device=cpu, dtype=torch.bool, is_shared=False),\n",
      "        observation: Tensor(shape=torch.Size([3]), device=cpu, dtype=torch.float32, is_shared=False),\n",
      "        terminated: Tensor(shape=torch.Size([1]), device=cpu, dtype=torch.bool, is_shared=False),\n",
      "        truncated: Tensor(shape=torch.Size([1]), device=cpu, dtype=torch.bool, is_shared=False)},\n",
      "    batch_size=torch.Size([]),\n",
      "    device=cpu,\n",
      "    is_shared=False)\n"
     ]
    }
   ],
   "source": [
    "reset_with_action = env.rand_action(reset)\n",
    "print(reset_with_action)"
   ],
   "metadata": {
    "collapsed": false,
    "ExecuteTime": {
     "end_time": "2024-04-24T13:23:19.947075300Z",
     "start_time": "2024-04-24T13:23:19.896420900Z"
    }
   },
   "id": "925d2288ea5842d"
  },
  {
   "cell_type": "markdown",
   "source": [
    "通过上面两个例子可以看出，所有的tensordict都有的相同的结构，不同的是随机选择一个动作后返回的实例多了一个action实体\n",
    "并且可以通过访问普通字典那样获取他的值"
   ],
   "metadata": {
    "collapsed": false
   },
   "id": "aeb68a470182c982"
  },
  {
   "cell_type": "code",
   "execution_count": 5,
   "outputs": [
    {
     "name": "stdout",
     "output_type": "stream",
     "text": [
      "tensor([0.6153])\n"
     ]
    }
   ],
   "source": [
    "print(reset_with_action[\"action\"])"
   ],
   "metadata": {
    "collapsed": false,
    "ExecuteTime": {
     "end_time": "2024-04-24T13:23:20.029077Z",
     "start_time": "2024-04-24T13:23:19.913283900Z"
    }
   },
   "id": "18fac4359e17fbf8"
  },
  {
   "cell_type": "markdown",
   "source": [
    "现在我们需要给环境传入一个动作，不同的是，现在传入的是一个整个tensordict实例。\n",
    "为什么传入整个tensordict实例，因为在更高级的强化学习方法中，例如多智能体强化学习中环境的读取的变量可能更多。"
   ],
   "metadata": {
    "collapsed": false
   },
   "id": "532656da09635c59"
  },
  {
   "cell_type": "code",
   "execution_count": 6,
   "outputs": [
    {
     "name": "stdout",
     "output_type": "stream",
     "text": [
      "TensorDict(\n",
      "    fields={\n",
      "        action: Tensor(shape=torch.Size([1]), device=cpu, dtype=torch.float32, is_shared=False),\n",
      "        done: Tensor(shape=torch.Size([1]), device=cpu, dtype=torch.bool, is_shared=False),\n",
      "        next: TensorDict(\n",
      "            fields={\n",
      "                done: Tensor(shape=torch.Size([1]), device=cpu, dtype=torch.bool, is_shared=False),\n",
      "                observation: Tensor(shape=torch.Size([3]), device=cpu, dtype=torch.float32, is_shared=False),\n",
      "                reward: Tensor(shape=torch.Size([1]), device=cpu, dtype=torch.float32, is_shared=False),\n",
      "                terminated: Tensor(shape=torch.Size([1]), device=cpu, dtype=torch.bool, is_shared=False),\n",
      "                truncated: Tensor(shape=torch.Size([1]), device=cpu, dtype=torch.bool, is_shared=False)},\n",
      "            batch_size=torch.Size([]),\n",
      "            device=cpu,\n",
      "            is_shared=False),\n",
      "        observation: Tensor(shape=torch.Size([3]), device=cpu, dtype=torch.float32, is_shared=False),\n",
      "        terminated: Tensor(shape=torch.Size([1]), device=cpu, dtype=torch.bool, is_shared=False),\n",
      "        truncated: Tensor(shape=torch.Size([1]), device=cpu, dtype=torch.bool, is_shared=False)},\n",
      "    batch_size=torch.Size([]),\n",
      "    device=cpu,\n",
      "    is_shared=False)\n"
     ]
    }
   ],
   "source": [
    "stepped_data = env.step(reset_with_action)\n",
    "print(stepped_data)"
   ],
   "metadata": {
    "collapsed": false,
    "ExecuteTime": {
     "end_time": "2024-04-24T13:23:20.032425100Z",
     "start_time": "2024-04-24T13:23:19.943086500Z"
    }
   },
   "id": "f22ac5adc0dcadae"
  },
  {
   "cell_type": "markdown",
   "source": [
    "step()执行一个动作之后返回的仍然是一个TensorDict，不同的是多了一个'next'实体，'next'实体他本身也是一个tensordict，包含了observation，reward，done state。\n",
    "\n",
    "这种格式叫做TED，TorchRL Episode Data format。\n",
    "\n",
    "下一件事在运行一个完成rollout需要了解的就是如何用'next'实体去执行下一个step，\n",
    "TorchRL定制了一个 step_mdp()函数实现这个功能：过滤掉哪些在执行一个MDP决策后你不需要的信息，\n",
    "\n",
    "例如，在下面的例子中stepped_data，data就只剩下了'next'信息"
   ],
   "metadata": {
    "collapsed": false
   },
   "id": "2f842e470ddd2dbc"
  },
  {
   "cell_type": "code",
   "execution_count": 7,
   "outputs": [
    {
     "name": "stdout",
     "output_type": "stream",
     "text": [
      "TensorDict(\n",
      "    fields={\n",
      "        done: Tensor(shape=torch.Size([1]), device=cpu, dtype=torch.bool, is_shared=False),\n",
      "        observation: Tensor(shape=torch.Size([3]), device=cpu, dtype=torch.float32, is_shared=False),\n",
      "        terminated: Tensor(shape=torch.Size([1]), device=cpu, dtype=torch.bool, is_shared=False),\n",
      "        truncated: Tensor(shape=torch.Size([1]), device=cpu, dtype=torch.bool, is_shared=False)},\n",
      "    batch_size=torch.Size([]),\n",
      "    device=cpu,\n",
      "    is_shared=False)\n"
     ]
    }
   ],
   "source": [
    "from torchrl.envs import step_mdp\n",
    "\n",
    "data = step_mdp(stepped_data)\n",
    "print(data)"
   ],
   "metadata": {
    "collapsed": false,
    "ExecuteTime": {
     "end_time": "2024-04-24T13:23:20.034420700Z",
     "start_time": "2024-04-24T13:23:19.960282300Z"
    }
   },
   "id": "62fe4b6987e98348"
  },
  {
   "cell_type": "markdown",
   "source": [
    "环境展开（rollout）\n",
    "反复写以下三步（选择动作，执行动作，moving in MDP）很繁琐，TorchRL提供了一个rollout()函数，在一个封闭的循环中执行这3步"
   ],
   "metadata": {
    "collapsed": false
   },
   "id": "1e0f66f40e355e98"
  },
  {
   "cell_type": "code",
   "execution_count": 8,
   "outputs": [
    {
     "name": "stdout",
     "output_type": "stream",
     "text": [
      "TensorDict(\n",
      "    fields={\n",
      "        action: Tensor(shape=torch.Size([10, 1]), device=cpu, dtype=torch.float32, is_shared=False),\n",
      "        done: Tensor(shape=torch.Size([10, 1]), device=cpu, dtype=torch.bool, is_shared=False),\n",
      "        next: TensorDict(\n",
      "            fields={\n",
      "                done: Tensor(shape=torch.Size([10, 1]), device=cpu, dtype=torch.bool, is_shared=False),\n",
      "                observation: Tensor(shape=torch.Size([10, 3]), device=cpu, dtype=torch.float32, is_shared=False),\n",
      "                reward: Tensor(shape=torch.Size([10, 1]), device=cpu, dtype=torch.float32, is_shared=False),\n",
      "                terminated: Tensor(shape=torch.Size([10, 1]), device=cpu, dtype=torch.bool, is_shared=False),\n",
      "                truncated: Tensor(shape=torch.Size([10, 1]), device=cpu, dtype=torch.bool, is_shared=False)},\n",
      "            batch_size=torch.Size([10]),\n",
      "            device=cpu,\n",
      "            is_shared=False),\n",
      "        observation: Tensor(shape=torch.Size([10, 3]), device=cpu, dtype=torch.float32, is_shared=False),\n",
      "        terminated: Tensor(shape=torch.Size([10, 1]), device=cpu, dtype=torch.bool, is_shared=False),\n",
      "        truncated: Tensor(shape=torch.Size([10, 1]), device=cpu, dtype=torch.bool, is_shared=False)},\n",
      "    batch_size=torch.Size([10]),\n",
      "    device=cpu,\n",
      "    is_shared=False)\n"
     ]
    }
   ],
   "source": [
    "rollout = env.rollout(max_steps=10)\n",
    "print(rollout)"
   ],
   "metadata": {
    "collapsed": false,
    "ExecuteTime": {
     "end_time": "2024-04-24T13:23:20.122238Z",
     "start_time": "2024-04-24T13:23:19.972250800Z"
    }
   },
   "id": "5813ead05a90c7fb"
  },
  {
   "cell_type": "markdown",
   "source": [
    "上面这个数据的输出，和之前的stepped_data几乎一样，除了batch_size外，而恰巧batch_size等于max_step参数。\n",
    "torchDict的神奇之处远不只此，如果你对一个单独transition感兴趣，可以通过索引去访问他。\n",
    "TensorDict会自动检测索引是一个关键字kay还是一个空间地址。"
   ],
   "metadata": {
    "collapsed": false
   },
   "id": "8fb5240a03045493"
  },
  {
   "cell_type": "code",
   "execution_count": 9,
   "outputs": [
    {
     "name": "stdout",
     "output_type": "stream",
     "text": [
      "TensorDict(\n",
      "    fields={\n",
      "        action: Tensor(shape=torch.Size([1]), device=cpu, dtype=torch.float32, is_shared=False),\n",
      "        done: Tensor(shape=torch.Size([1]), device=cpu, dtype=torch.bool, is_shared=False),\n",
      "        next: TensorDict(\n",
      "            fields={\n",
      "                done: Tensor(shape=torch.Size([1]), device=cpu, dtype=torch.bool, is_shared=False),\n",
      "                observation: Tensor(shape=torch.Size([3]), device=cpu, dtype=torch.float32, is_shared=False),\n",
      "                reward: Tensor(shape=torch.Size([1]), device=cpu, dtype=torch.float32, is_shared=False),\n",
      "                terminated: Tensor(shape=torch.Size([1]), device=cpu, dtype=torch.bool, is_shared=False),\n",
      "                truncated: Tensor(shape=torch.Size([1]), device=cpu, dtype=torch.bool, is_shared=False)},\n",
      "            batch_size=torch.Size([]),\n",
      "            device=cpu,\n",
      "            is_shared=False),\n",
      "        observation: Tensor(shape=torch.Size([3]), device=cpu, dtype=torch.float32, is_shared=False),\n",
      "        terminated: Tensor(shape=torch.Size([1]), device=cpu, dtype=torch.bool, is_shared=False),\n",
      "        truncated: Tensor(shape=torch.Size([1]), device=cpu, dtype=torch.bool, is_shared=False)},\n",
      "    batch_size=torch.Size([]),\n",
      "    device=cpu,\n",
      "    is_shared=False)\n"
     ]
    }
   ],
   "source": [
    "transition = rollout[3]\n",
    "print(transition)"
   ],
   "metadata": {
    "collapsed": false,
    "ExecuteTime": {
     "end_time": "2024-04-24T13:23:20.124229Z",
     "start_time": "2024-04-24T13:23:20.003167600Z"
    }
   },
   "id": "19680416590fae90"
  },
  {
   "cell_type": "markdown",
   "source": [
    "像这样执行（没有策略），rollout方法似乎相当无用：它只是随机地运行动作。\n",
    "如果有可用的策略，它可以传递给该方法并用来收集数据。\n",
    "然而，首先进行一个简单的、无策略的rollout可能会很有用，以便一眼就可以看出预期从环境中得到什么。\n",
    "要欣赏TorchRL API的多功能性，考虑一下这样一个事实：rollout方法具有普遍适用性。\n",
    "它在所有使用场景都能工作，无论你是在像这样的单一环境中工作，还是在多个进程中的多个副本，或者是多代理环境，甚至是它的无状态版本！"
   ],
   "metadata": {
    "collapsed": false
   },
   "id": "b250b6e2cca9a31d"
  },
  {
   "cell_type": "markdown",
   "source": [
    "大多数时候，你可能希望修改环境的输出以更好地适应你的需求。例如，你可能想获取自上次重置（reset）以来执行的步数，调整图像大小，或将连续的观察结果堆叠在一起。\n",
    "在这一部分，我们将研究一个简单的变换（transform），即StepCounter变换。完整的变换列表可以在这里找到。\n",
    "通过TransformedEnv，变换与环境进行了集成："
   ],
   "metadata": {
    "collapsed": false
   },
   "id": "5455c9ba6314fac5"
  },
  {
   "cell_type": "code",
   "execution_count": 10,
   "outputs": [
    {
     "name": "stdout",
     "output_type": "stream",
     "text": [
      "TensorDict(\n",
      "    fields={\n",
      "        action: Tensor(shape=torch.Size([10, 1]), device=cpu, dtype=torch.float32, is_shared=False),\n",
      "        done: Tensor(shape=torch.Size([10, 1]), device=cpu, dtype=torch.bool, is_shared=False),\n",
      "        next: TensorDict(\n",
      "            fields={\n",
      "                done: Tensor(shape=torch.Size([10, 1]), device=cpu, dtype=torch.bool, is_shared=False),\n",
      "                observation: Tensor(shape=torch.Size([10, 3]), device=cpu, dtype=torch.float32, is_shared=False),\n",
      "                reward: Tensor(shape=torch.Size([10, 1]), device=cpu, dtype=torch.float32, is_shared=False),\n",
      "                step_count: Tensor(shape=torch.Size([10, 1]), device=cpu, dtype=torch.int64, is_shared=False),\n",
      "                terminated: Tensor(shape=torch.Size([10, 1]), device=cpu, dtype=torch.bool, is_shared=False),\n",
      "                truncated: Tensor(shape=torch.Size([10, 1]), device=cpu, dtype=torch.bool, is_shared=False)},\n",
      "            batch_size=torch.Size([10]),\n",
      "            device=cpu,\n",
      "            is_shared=False),\n",
      "        observation: Tensor(shape=torch.Size([10, 3]), device=cpu, dtype=torch.float32, is_shared=False),\n",
      "        step_count: Tensor(shape=torch.Size([10, 1]), device=cpu, dtype=torch.int64, is_shared=False),\n",
      "        terminated: Tensor(shape=torch.Size([10, 1]), device=cpu, dtype=torch.bool, is_shared=False),\n",
      "        truncated: Tensor(shape=torch.Size([10, 1]), device=cpu, dtype=torch.bool, is_shared=False)},\n",
      "    batch_size=torch.Size([10]),\n",
      "    device=cpu,\n",
      "    is_shared=False)\n"
     ]
    }
   ],
   "source": [
    "from torchrl.envs import StepCounter, TransformedEnv\n",
    "\n",
    "transformed_env = TransformedEnv(env, StepCounter(max_steps=10))\n",
    "rollout = transformed_env.rollout(max_steps=100)\n",
    "print(rollout)"
   ],
   "metadata": {
    "collapsed": false,
    "ExecuteTime": {
     "end_time": "2024-04-24T13:23:20.143176800Z",
     "start_time": "2024-04-24T13:23:20.022096700Z"
    }
   },
   "id": "fae3e89c6388ba7d"
  },
  {
   "cell_type": "markdown",
   "source": [
    "如你所见，我们的环境现在多了一项\"step_count\"，这项数据用来追踪自上次重置（reset）以来走了多少步。\n",
    "考虑到我们将可选参数max_steps=10传递给了变换构造函数，我们还在10步后截断了轨迹（没有像我们用rollout调用请求的那样完成全部100步）。"
   ],
   "metadata": {
    "collapsed": false
   },
   "id": "8592fd2eec0aa6eb"
  },
  {
   "cell_type": "code",
   "execution_count": 11,
   "outputs": [
    {
     "name": "stdout",
     "output_type": "stream",
     "text": [
      "tensor([[False],\n",
      "        [False],\n",
      "        [False],\n",
      "        [False],\n",
      "        [False],\n",
      "        [False],\n",
      "        [False],\n",
      "        [False],\n",
      "        [False],\n",
      "        [ True]])\n"
     ]
    }
   ],
   "source": [
    "print(rollout[\"next\", \"truncated\"])"
   ],
   "metadata": {
    "collapsed": false,
    "ExecuteTime": {
     "end_time": "2024-04-24T13:23:20.145171600Z",
     "start_time": "2024-04-24T13:23:20.067185400Z"
    }
   },
   "id": "108ab5f6fbf29f97"
  },
  {
   "cell_type": "code",
   "execution_count": 12,
   "outputs": [
    {
     "name": "stdout",
     "output_type": "stream",
     "text": [
      "TensorDict(\n",
      "    fields={\n",
      "        done: Tensor(shape=torch.Size([10, 1]), device=cpu, dtype=torch.bool, is_shared=False),\n",
      "        observation: Tensor(shape=torch.Size([10, 3]), device=cpu, dtype=torch.float32, is_shared=False),\n",
      "        reward: Tensor(shape=torch.Size([10, 1]), device=cpu, dtype=torch.float32, is_shared=False),\n",
      "        step_count: Tensor(shape=torch.Size([10, 1]), device=cpu, dtype=torch.int64, is_shared=False),\n",
      "        terminated: Tensor(shape=torch.Size([10, 1]), device=cpu, dtype=torch.bool, is_shared=False),\n",
      "        truncated: Tensor(shape=torch.Size([10, 1]), device=cpu, dtype=torch.bool, is_shared=False)},\n",
      "    batch_size=torch.Size([10]),\n",
      "    device=cpu,\n",
      "    is_shared=False)\n"
     ]
    }
   ],
   "source": [
    "print(rollout['next']) # 返回了10个next"
   ],
   "metadata": {
    "collapsed": false,
    "ExecuteTime": {
     "end_time": "2024-04-24T13:23:20.252618700Z",
     "start_time": "2024-04-24T13:23:20.080765100Z"
    }
   },
   "id": "e40d320dbc175cc"
  },
  {
   "cell_type": "code",
   "execution_count": 13,
   "outputs": [
    {
     "name": "stdout",
     "output_type": "stream",
     "text": [
      "tensor([[ 1],\n",
      "        [ 2],\n",
      "        [ 3],\n",
      "        [ 4],\n",
      "        [ 5],\n",
      "        [ 6],\n",
      "        [ 7],\n",
      "        [ 8],\n",
      "        [ 9],\n",
      "        [10]])\n"
     ]
    }
   ],
   "source": [
    "print(rollout['next','step_count'])"
   ],
   "metadata": {
    "collapsed": false,
    "ExecuteTime": {
     "end_time": "2024-04-24T13:24:49.473189500Z",
     "start_time": "2024-04-24T13:24:49.425721Z"
    }
   },
   "id": "689ea970f0b48f94"
  },
  {
   "cell_type": "code",
   "execution_count": 14,
   "outputs": [
    {
     "name": "stdout",
     "output_type": "stream",
     "text": [
      "tensor([[ 1],\n",
      "        [ 2],\n",
      "        [ 3],\n",
      "        [ 4],\n",
      "        [ 5],\n",
      "        [ 6],\n",
      "        [ 7],\n",
      "        [ 8],\n",
      "        [ 9],\n",
      "        [10]])\n"
     ]
    }
   ],
   "source": [
    "print(rollout['next']['step_count'])"
   ],
   "metadata": {
    "collapsed": false,
    "ExecuteTime": {
     "end_time": "2024-04-24T13:25:05.561072100Z",
     "start_time": "2024-04-24T13:25:05.536156200Z"
    }
   },
   "id": "7b47126e965e8657"
  },
  {
   "cell_type": "code",
   "execution_count": null,
   "outputs": [],
   "source": [],
   "metadata": {
    "collapsed": false
   },
   "id": "aa7239dddd3f6218"
  }
 ],
 "metadata": {
  "kernelspec": {
   "display_name": "Python 3",
   "language": "python",
   "name": "python3"
  },
  "language_info": {
   "codemirror_mode": {
    "name": "ipython",
    "version": 2
   },
   "file_extension": ".py",
   "mimetype": "text/x-python",
   "name": "python",
   "nbconvert_exporter": "python",
   "pygments_lexer": "ipython2",
   "version": "2.7.6"
  }
 },
 "nbformat": 4,
 "nbformat_minor": 5
}
